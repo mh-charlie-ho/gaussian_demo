{
 "cells": [
  {
   "cell_type": "code",
   "execution_count": 14,
   "metadata": {},
   "outputs": [
    {
     "name": "stdout",
     "output_type": "stream",
     "text": [
      "The autoreload extension is already loaded. To reload it, use:\n",
      "  %reload_ext autoreload\n"
     ]
    }
   ],
   "source": [
    "import math\n",
    "import torch\n",
    "import gpytorch\n",
    "from matplotlib import pyplot as plt\n",
    "\n",
    "%matplotlib inline\n",
    "%load_ext autoreload\n",
    "%autoreload 2"
   ]
  },
  {
   "cell_type": "code",
   "execution_count": 20,
   "metadata": {},
   "outputs": [
    {
     "data": {
      "text/plain": [
       "tensor([0.0000, 0.0101, 0.0202, 0.0303, 0.0404, 0.0505, 0.0606, 0.0707, 0.0808,\n",
       "        0.0909, 0.1010, 0.1111, 0.1212, 0.1313, 0.1414, 0.1515, 0.1616, 0.1717,\n",
       "        0.1818, 0.1919, 0.2020, 0.2121, 0.2222, 0.2323, 0.2424, 0.2525, 0.2626,\n",
       "        0.2727, 0.2828, 0.2929, 0.3030, 0.3131, 0.3232, 0.3333, 0.3434, 0.3535,\n",
       "        0.3636, 0.3737, 0.3838, 0.3939, 0.4040, 0.4141, 0.4242, 0.4343, 0.4444,\n",
       "        0.4545, 0.4646, 0.4747, 0.4848, 0.4949, 0.5051, 0.5152, 0.5253, 0.5354,\n",
       "        0.5455, 0.5556, 0.5657, 0.5758, 0.5859, 0.5960, 0.6061, 0.6162, 0.6263,\n",
       "        0.6364, 0.6465, 0.6566, 0.6667, 0.6768, 0.6869, 0.6970, 0.7071, 0.7172,\n",
       "        0.7273, 0.7374, 0.7475, 0.7576, 0.7677, 0.7778, 0.7879, 0.7980, 0.8081,\n",
       "        0.8182, 0.8283, 0.8384, 0.8485, 0.8586, 0.8687, 0.8788, 0.8889, 0.8990,\n",
       "        0.9091, 0.9192, 0.9293, 0.9394, 0.9495, 0.9596, 0.9697, 0.9798, 0.9899,\n",
       "        1.0000])"
      ]
     },
     "execution_count": 20,
     "metadata": {},
     "output_type": "execute_result"
    }
   ],
   "source": [
    "# Training data is 100 points in [0,1] inclusive regularly spaced\n",
    "train_x = torch.linspace(0, 1, 100)\n",
    "# True function is sin(2*pi*x) with Gaussian noise\n",
    "train_y = torch.sin(train_x * (2 * math.pi)) + torch.randn(train_x.size()) * math.sqrt(0.04)\n",
    "\n",
    "train_x"
   ]
  },
  {
   "cell_type": "code",
   "execution_count": 16,
   "metadata": {},
   "outputs": [],
   "source": [
    "class ExactGPModel(gpytorch.models.ExactGP):\n",
    "    def __init__(self, train_x, train_y, likelihood):\n",
    "        super(ExactGPModel, self).__init__(train_x, train_y, likelihood)\n",
    "        self.mean_module = gpytorch.means.ConstantMean()\n",
    "        self.covar_module = gpytorch.kernels.ScaleKernel(gpytorch.kernels.RBFKernel())\n",
    "\n",
    "    def forward(self, x):\n",
    "        mean_x = self.mean_module(x)\n",
    "        covar_x = self.covar_module(x)\n",
    "        return gpytorch.distributions.MultivariateNormal(mean_x, covar_x)\n",
    "\n",
    "# initialize likelihood and model\n",
    "likelihood = gpytorch.likelihoods.GaussianLikelihood()\n",
    "model = ExactGPModel(train_x, train_y, likelihood)"
   ]
  },
  {
   "cell_type": "code",
   "execution_count": 17,
   "metadata": {},
   "outputs": [
    {
     "name": "stdout",
     "output_type": "stream",
     "text": [
      "Iter 1/50 - Loss: 0.938   lengthscale: 0.693   noise: 0.693\n",
      "Iter 2/50 - Loss: 0.907   lengthscale: 0.644   noise: 0.644\n",
      "Iter 3/50 - Loss: 0.873   lengthscale: 0.598   noise: 0.598\n",
      "Iter 4/50 - Loss: 0.835   lengthscale: 0.555   noise: 0.554\n",
      "Iter 5/50 - Loss: 0.792   lengthscale: 0.514   noise: 0.513\n",
      "Iter 6/50 - Loss: 0.744   lengthscale: 0.475   noise: 0.474\n",
      "Iter 7/50 - Loss: 0.693   lengthscale: 0.439   noise: 0.437\n",
      "Iter 8/50 - Loss: 0.640   lengthscale: 0.404   noise: 0.402\n",
      "Iter 9/50 - Loss: 0.590   lengthscale: 0.372   noise: 0.369\n",
      "Iter 10/50 - Loss: 0.544   lengthscale: 0.342   noise: 0.339\n",
      "Iter 11/50 - Loss: 0.503   lengthscale: 0.315   noise: 0.310\n",
      "Iter 12/50 - Loss: 0.465   lengthscale: 0.292   noise: 0.284\n",
      "Iter 13/50 - Loss: 0.429   lengthscale: 0.272   noise: 0.259\n",
      "Iter 14/50 - Loss: 0.394   lengthscale: 0.255   noise: 0.236\n",
      "Iter 15/50 - Loss: 0.360   lengthscale: 0.242   noise: 0.215\n",
      "Iter 16/50 - Loss: 0.326   lengthscale: 0.232   noise: 0.196\n",
      "Iter 17/50 - Loss: 0.293   lengthscale: 0.224   noise: 0.178\n",
      "Iter 18/50 - Loss: 0.260   lengthscale: 0.218   noise: 0.162\n",
      "Iter 19/50 - Loss: 0.227   lengthscale: 0.215   noise: 0.147\n",
      "Iter 20/50 - Loss: 0.195   lengthscale: 0.213   noise: 0.134\n",
      "Iter 21/50 - Loss: 0.163   lengthscale: 0.212   noise: 0.122\n",
      "Iter 22/50 - Loss: 0.132   lengthscale: 0.213   noise: 0.111\n",
      "Iter 23/50 - Loss: 0.102   lengthscale: 0.216   noise: 0.101\n",
      "Iter 24/50 - Loss: 0.074   lengthscale: 0.219   noise: 0.091\n",
      "Iter 25/50 - Loss: 0.047   lengthscale: 0.224   noise: 0.083\n",
      "Iter 26/50 - Loss: 0.023   lengthscale: 0.230   noise: 0.076\n",
      "Iter 27/50 - Loss: 0.000   lengthscale: 0.237   noise: 0.069\n",
      "Iter 28/50 - Loss: -0.020   lengthscale: 0.244   noise: 0.063\n",
      "Iter 29/50 - Loss: -0.037   lengthscale: 0.252   noise: 0.058\n",
      "Iter 30/50 - Loss: -0.051   lengthscale: 0.260   noise: 0.053\n",
      "Iter 31/50 - Loss: -0.061   lengthscale: 0.269   noise: 0.049\n",
      "Iter 32/50 - Loss: -0.069   lengthscale: 0.277   noise: 0.045\n",
      "Iter 33/50 - Loss: -0.073   lengthscale: 0.285   noise: 0.042\n",
      "Iter 34/50 - Loss: -0.075   lengthscale: 0.293   noise: 0.039\n",
      "Iter 35/50 - Loss: -0.074   lengthscale: 0.299   noise: 0.037\n",
      "Iter 36/50 - Loss: -0.072   lengthscale: 0.304   noise: 0.035\n",
      "Iter 37/50 - Loss: -0.068   lengthscale: 0.307   noise: 0.033\n",
      "Iter 38/50 - Loss: -0.064   lengthscale: 0.308   noise: 0.032\n",
      "Iter 39/50 - Loss: -0.060   lengthscale: 0.307   noise: 0.031\n",
      "Iter 40/50 - Loss: -0.057   lengthscale: 0.305   noise: 0.030\n",
      "Iter 41/50 - Loss: -0.055   lengthscale: 0.301   noise: 0.029\n",
      "Iter 42/50 - Loss: -0.054   lengthscale: 0.296   noise: 0.029\n",
      "Iter 43/50 - Loss: -0.054   lengthscale: 0.291   noise: 0.029\n",
      "Iter 44/50 - Loss: -0.054   lengthscale: 0.285   noise: 0.029\n",
      "Iter 45/50 - Loss: -0.056   lengthscale: 0.280   noise: 0.029\n",
      "Iter 46/50 - Loss: -0.057   lengthscale: 0.275   noise: 0.029\n",
      "Iter 47/50 - Loss: -0.060   lengthscale: 0.270   noise: 0.030\n",
      "Iter 48/50 - Loss: -0.062   lengthscale: 0.266   noise: 0.030\n",
      "Iter 49/50 - Loss: -0.065   lengthscale: 0.263   noise: 0.031\n",
      "Iter 50/50 - Loss: -0.067   lengthscale: 0.260   noise: 0.032\n"
     ]
    }
   ],
   "source": [
    "# this is for running the notebook in our testing framework\n",
    "import os\n",
    "smoke_test = ('CI' in os.environ)\n",
    "training_iter = 2 if smoke_test else 50\n",
    "\n",
    "\n",
    "# Find optimal model hyperparameters\n",
    "model.train()\n",
    "likelihood.train()\n",
    "\n",
    "# Use the adam optimizer\n",
    "optimizer = torch.optim.Adam(model.parameters(), lr=0.1)  # Includes GaussianLikelihood parameters\n",
    "\n",
    "# \"Loss\" for GPs - the marginal log likelihood\n",
    "mll = gpytorch.mlls.ExactMarginalLogLikelihood(likelihood, model)\n",
    "\n",
    "for i in range(training_iter):\n",
    "    # Zero gradients from previous iteration\n",
    "    optimizer.zero_grad()\n",
    "    # Output from model\n",
    "    output = model(train_x)\n",
    "    # Calc loss and backprop gradients\n",
    "    loss = -mll(output, train_y)\n",
    "    loss.backward()\n",
    "    print('Iter %d/%d - Loss: %.3f   lengthscale: %.3f   noise: %.3f' % (\n",
    "        i + 1, training_iter, loss.item(),\n",
    "        model.covar_module.base_kernel.lengthscale.item(),\n",
    "        model.likelihood.noise.item()\n",
    "    ))\n",
    "    optimizer.step()"
   ]
  },
  {
   "cell_type": "code",
   "execution_count": 18,
   "metadata": {},
   "outputs": [],
   "source": [
    "# Get into evaluation (predictive posterior) mode\n",
    "model.eval()\n",
    "likelihood.eval()\n",
    "\n",
    "# Test points are regularly spaced along [0,1]\n",
    "# Make predictions by feeding model through likelihood\n",
    "with torch.no_grad(), gpytorch.settings.fast_pred_var():\n",
    "    test_x = torch.linspace(0, 1, 51)\n",
    "    observed_pred = likelihood(model(test_x))"
   ]
  },
  {
   "cell_type": "code",
   "execution_count": 19,
   "metadata": {},
   "outputs": [
    {
     "data": {
      "image/png": "[encoded data removed]",
      "text/plain": [
       "<Figure size 400x300 with 1 Axes>"
      ]
     },
     "metadata": {},
     "output_type": "display_data"
    }
   ],
   "source": [
    "with torch.no_grad():\n",
    "    # Initialize plot\n",
    "    f, ax = plt.subplots(1, 1, figsize=(4, 3))\n",
    "\n",
    "    # Get upper and lower confidence bounds\n",
    "    lower, upper = observed_pred.confidence_region()\n",
    "    # Plot training data as black stars\n",
    "    ax.plot(train_x.numpy(), train_y.numpy(), 'k*')\n",
    "    # Plot predictive means as blue line\n",
    "    ax.plot(test_x.numpy(), observed_pred.mean.numpy(), 'b')\n",
    "    # Shade between the lower and upper confidence bounds\n",
    "    ax.fill_between(test_x.numpy(), lower.numpy(), upper.numpy(), alpha=0.5)\n",
    "    ax.set_ylim([-3, 3])\n",
    "    ax.legend(['Observed Data', 'Mean', 'Confidence'])\n"
   ]
  },
  {
   "cell_type": "code",
   "execution_count": null,
   "metadata": {},
   "outputs": [],
   "source": []
  }
 ],
 "metadata": {
  "kernelspec": {
   "display_name": "Python 3",
   "language": "python",
   "name": "python3"
  },
  "language_info": {
   "codemirror_mode": {
    "name": "ipython",
    "version": 3
   },
   "file_extension": ".py",
   "mimetype": "text/x-python",
   "name": "python",
   "nbconvert_exporter": "python",
   "pygments_lexer": "ipython3",
   "version": "3.10.12"
  }
 },
 "nbformat": 4,
 "nbformat_minor": 2
}
