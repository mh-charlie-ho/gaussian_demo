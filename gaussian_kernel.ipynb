{
 "cells": [
  {
   "cell_type": "code",
   "execution_count": 26,
   "metadata": {},
   "outputs": [
    {
     "name": "stdout",
     "output_type": "stream",
     "text": [
      "[[100.          98.01986733  80.5347031 ]\n",
      " [ 98.01986733 100.          90.04307671]\n",
      " [ 80.5347031   90.04307671 100.        ]]\n"
     ]
    }
   ],
   "source": [
    "import numpy as np\n",
    "\n",
    "def gaussian_kernel(x1, x2, l=1.0, sigma_f=1.0):  # x1(100,2) x2(2500,2)\n",
    "    \"\"\"Easy to understand but inefficient.\"\"\"\n",
    "    m, n = x1.shape[0], x2.shape[0]\n",
    "    dist_matrix = np.zeros((m, n), dtype=float)\n",
    "    for i in range(m):\n",
    "        for j in range(n):\n",
    "            dist_matrix[i][j] = np.sum((x1[i] - x2[j]) ** 2)   # summerize all elements\n",
    "    return sigma_f ** 2 * np.exp(- 0.5 / l ** 2 * dist_matrix)\n",
    "\n",
    "def gaussian_kernel_vectorization(x1, x2, l=1.0, sigma_f=1.0):\n",
    "    \"\"\"More efficient approach.\"\"\"\n",
    "    dist_matrix = np.sum(x1**2, 1).reshape(-1, 1) + np.sum(x2**2, 1) - 2 * np.dot(x1, x2.T)\n",
    "    return sigma_f ** 2 * np.exp(-0.5 / l ** 2 * dist_matrix)\n",
    "\n",
    "x = np.array([700, 800, 1029]).reshape(-1, 1)\n",
    "print(gaussian_kernel(x, x, l=500, sigma_f=10))\n"
   ]
  },
  {
   "cell_type": "code",
   "execution_count": 37,
   "metadata": {},
   "outputs": [],
   "source": [
    "train_X = np.random.uniform(-4, 4, (100, 2)).tolist()\n",
    "test_d1 = np.arange(-5, 5, 0.2)\n",
    "test_d2 = np.arange(-5, 5, 0.2)\n",
    "test_d1, test_d2 = np.meshgrid(test_d1, test_d2)\n",
    "test_X = [[d1, d2] for d1, d2 in zip(test_d1.ravel(), test_d2.ravel())]\n",
    "\n",
    "train_X = np.asarray(train_X)\n",
    "test_X = np.asarray(test_X)\n"
   ]
  },
  {
   "cell_type": "code",
   "execution_count": 35,
   "metadata": {},
   "outputs": [
    {
     "name": "stdout",
     "output_type": "stream",
     "text": [
      "2500\n",
      "100\n"
     ]
    }
   ],
   "source": [
    "print(len(test_X))\n",
    "print(len(train_X))"
   ]
  },
  {
   "cell_type": "code",
   "execution_count": 39,
   "metadata": {},
   "outputs": [
    {
     "data": {
      "text/plain": [
       "array([2.00320438e+01, 1.40151938e+01, 1.91172360e+01, 1.35159385e+01,\n",
       "       7.63091787e+00, 1.63836615e+01, 1.23173780e+01, 6.72447602e-01,\n",
       "       5.28687305e+00, 2.34775438e+01, 1.71547647e+01, 7.10947941e+00,\n",
       "       1.20143667e+01, 1.14549445e+01, 1.38854883e+01, 2.49752723e+00,\n",
       "       1.09641352e+01, 3.48586790e-01, 1.06242374e+01, 3.22071447e+00,\n",
       "       3.59141486e+00, 2.90354529e+01, 6.95835820e+00, 2.08620360e+00,\n",
       "       1.56698178e+01, 1.68820078e+00, 1.99355862e+01, 5.95267968e+00,\n",
       "       1.64391690e+01, 1.22024441e+01, 5.27055951e+00, 2.38442484e+00,\n",
       "       1.08707004e+01, 6.53342135e+00, 1.93024839e+01, 1.49227151e+01,\n",
       "       2.49048169e+00, 1.32093967e+01, 2.25453619e-04, 7.51387389e+00,\n",
       "       1.69705392e+01, 1.00539816e+01, 2.67498514e+00, 6.79569927e+00,\n",
       "       4.81601024e-01, 3.35412905e+00, 5.86804072e+00, 1.54560485e+01,\n",
       "       2.39382433e+01, 2.98430083e+01, 1.23974698e+01, 1.64707437e+01,\n",
       "       1.64385614e+01, 1.99682504e-01, 5.96408601e+00, 1.52537953e+01,\n",
       "       5.04346116e-01, 1.11794206e+01, 1.57040018e+01, 1.90992574e+01,\n",
       "       1.95494982e+01, 3.50336323e+00, 1.10635138e+01, 1.02376597e+01,\n",
       "       6.35835286e+00, 1.11735348e+01, 9.99779901e+00, 1.92004279e+00,\n",
       "       1.80693010e+01, 1.08568246e+01, 9.27660647e+00, 1.74909419e+01,\n",
       "       4.05070116e+00, 2.70743977e+01, 9.39247557e+00, 1.29915354e+01,\n",
       "       5.48412516e+00, 2.08587257e+01, 2.99925742e-01, 6.55767972e+00,\n",
       "       2.14530811e+01, 2.90488230e+00, 1.52682163e+01, 1.41794484e+01,\n",
       "       1.62928636e+00, 2.23916764e+01, 4.67563103e+00, 6.72010339e-01,\n",
       "       1.52753183e+01, 7.79244981e+00, 2.29451570e+00, 2.10840256e+01,\n",
       "       1.85446965e+01, 1.53507394e+01, 1.77414502e+01, 1.89981505e+01,\n",
       "       9.42794286e+00, 3.47061178e+00, 2.06483846e+00, 1.08828564e+01])"
      ]
     },
     "execution_count": 39,
     "metadata": {},
     "output_type": "execute_result"
    }
   ],
   "source": [
    "np.sum(train_X**2, 1)"
   ]
  }
 ],
 "metadata": {
  "kernelspec": {
   "display_name": "Python 3",
   "language": "python",
   "name": "python3"
  },
  "language_info": {
   "codemirror_mode": {
    "name": "ipython",
    "version": 3
   },
   "file_extension": ".py",
   "mimetype": "text/x-python",
   "name": "python",
   "nbconvert_exporter": "python",
   "pygments_lexer": "ipython3",
   "version": "3.10.12"
  }
 },
 "nbformat": 4,
 "nbformat_minor": 2
}
